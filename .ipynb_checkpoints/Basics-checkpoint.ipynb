{
 "cells": [
  {
   "cell_type": "code",
   "execution_count": 1,
   "metadata": {},
   "outputs": [],
   "source": [
    "print((1+2+3)+3)"
   ]
  },
  {
   "cell_type": "code",
   "execution_count": 2,
   "metadata": {},
   "outputs": [],
   "source": [
    "print(3**2)"
   ]
  },
  {
   "cell_type": "code",
   "execution_count": 3,
   "metadata": {},
   "outputs": [],
   "source": [
    "print(2-3)\n"
   ]
  },
  {
   "cell_type": "code",
   "execution_count": 4,
   "metadata": {},
   "outputs": [],
   "source": [
    "print(2*3)"
   ]
  },
  {
   "cell_type": "code",
   "execution_count": 5,
   "metadata": {},
   "outputs": [
    {
     "name": "stdout",
     "output_type": "stream",
     "text": [
      "1\n"
     ]
    }
   ],
   "source": [
    "print(3%2)"
   ]
  },
  {
   "cell_type": "code",
   "execution_count": 6,
   "metadata": {},
   "outputs": [
    {
     "name": "stdout",
     "output_type": "stream",
     "text": [
      "1\n"
     ]
    }
   ],
   "source": [
    "print(3//2)"
   ]
  },
  {
   "cell_type": "code",
   "execution_count": 7,
   "metadata": {},
   "outputs": [
    {
     "data": {
      "text/plain": [
       "39.666666666666664"
      ]
     },
     "execution_count": 7,
     "metadata": {},
     "output_type": "execute_result"
    }
   ],
   "source": [
    "#Average Electricity Bill\n",
    "a = 23+32+64\n",
    "a/3"
   ]
  },
  {
   "cell_type": "code",
   "execution_count": 8,
   "metadata": {},
   "outputs": [
    {
     "name": "stdout",
     "output_type": "stream",
     "text": [
      "2\n"
     ]
    }
   ],
   "source": [
    "#Variables\n",
    "\n",
    "x =2 \n",
    "y=x\n",
    "print(y)"
   ]
  },
  {
   "cell_type": "code",
   "execution_count": 9,
   "metadata": {},
   "outputs": [
    {
     "ename": "SyntaxError",
     "evalue": "invalid syntax (<ipython-input-9-18b561862076>, line 4)",
     "output_type": "error",
     "traceback": [
      "\u001b[0;36m  File \u001b[0;32m\"<ipython-input-9-18b561862076>\"\u001b[0;36m, line \u001b[0;32m4\u001b[0m\n\u001b[0;31m    x-=2 ..........\u001b[0m\n\u001b[0m           ^\u001b[0m\n\u001b[0;31mSyntaxError\u001b[0m\u001b[0;31m:\u001b[0m invalid syntax\n"
     ]
    }
   ],
   "source": [
    "#Operators in different Scenarios\n",
    "x=2\n",
    "x+=2 \n",
    "x-=2 .........."
   ]
  },
  {
   "cell_type": "code",
   "execution_count": 25,
   "metadata": {},
   "outputs": [],
   "source": [
    "a= 5e6"
   ]
  },
  {
   "cell_type": "code",
   "execution_count": 26,
   "metadata": {},
   "outputs": [
    {
     "data": {
      "text/plain": [
       "4500000.0"
      ]
     },
     "execution_count": 26,
     "metadata": {},
     "output_type": "execute_result"
    }
   ],
   "source": [
    "a*0.90"
   ]
  },
  {
   "cell_type": "code",
   "execution_count": null,
   "metadata": {},
   "outputs": [],
   "source": [
    "#int and FLoat\n",
    "print(int(3.3))\n",
    "print(float(3.3))"
   ]
  },
  {
   "cell_type": "code",
   "execution_count": null,
   "metadata": {},
   "outputs": [],
   "source": [
    "salesman = 'I think you\\'re an encyclopedia salesman'\n",
    "print(salesman)"
   ]
  },
  {
   "cell_type": "code",
   "execution_count": null,
   "metadata": {},
   "outputs": [],
   "source": [
    "#LISTS\n",
    "#these create and organise the group of data types in the different ways\n",
    "\n",
    "days = ['Monday', 'Tuesday', 'Wednesday','Thursday','Friday',1,2,3,4]\n",
    "days"
   ]
  },
  {
   "cell_type": "code",
   "execution_count": null,
   "metadata": {},
   "outputs": [],
   "source": [
    "days[-1]"
   ]
  },
  {
   "cell_type": "code",
   "execution_count": null,
   "metadata": {},
   "outputs": [],
   "source": [
    "#Index Error\n",
    "#index out of range means there isnt the element us are searching for"
   ]
  },
  {
   "cell_type": "code",
   "execution_count": null,
   "metadata": {},
   "outputs": [],
   "source": [
    "days[10]"
   ]
  },
  {
   "cell_type": "code",
   "execution_count": null,
   "metadata": {},
   "outputs": [],
   "source": [
    "#Slicing\n",
    "\n",
    "days[2:4]\n",
    "#Slicing begins from 2nd index and ends at 3 since the upper is exclusive\n",
    "\n",
    "#The lower is inclusive and the upper is exclusive"
   ]
  },
  {
   "cell_type": "code",
   "execution_count": null,
   "metadata": {},
   "outputs": [],
   "source": [
    "days[:3]\n",
    "#The Last index is exclusive"
   ]
  },
  {
   "cell_type": "code",
   "execution_count": null,
   "metadata": {},
   "outputs": [],
   "source": [
    "days[3:]\n",
    "#Starting index is inclusive"
   ]
  },
  {
   "cell_type": "code",
   "execution_count": null,
   "metadata": {},
   "outputs": [],
   "source": [
    "len(days)"
   ]
  },
  {
   "cell_type": "code",
   "execution_count": null,
   "metadata": {},
   "outputs": [],
   "source": [
    "print(4 in days) #TO CHECK WHETHER ITS IN THE LIST OR NOT"
   ]
  },
  {
   "cell_type": "code",
   "execution_count": null,
   "metadata": {},
   "outputs": [],
   "source": [
    "print('Monday' in days) #TO CHECK WHETHER ITS IN THE LIST OR NOT"
   ]
  },
  {
   "cell_type": "code",
   "execution_count": null,
   "metadata": {},
   "outputs": [],
   "source": [
    "days[1] = 'Sunday' #Replace the current list with the new items which is also called as mutuable\n",
    "days\n",
    "#We cant change the same in the strings so its immutable"
   ]
  },
  {
   "cell_type": "code",
   "execution_count": null,
   "metadata": {},
   "outputs": [],
   "source": [
    "#Both Strings and Lists are ordered as we can use indexing in them but the string is immutable and the list is mutable as we can change the elements in between the list"
   ]
  },
  {
   "cell_type": "code",
   "execution_count": null,
   "metadata": {},
   "outputs": [],
   "source": [
    "#Strings are different from Lists as they are immutable\n",
    "#Len() # elements in a list\n",
    "# max() #the biggest element in the list\n",
    "# min() # the viceverse of max()\n",
    "# \"> max()\" this wont work if the list have different data types\n",
    "#sorted() - Copy of the list from smallest to the largest\n",
    "#Reverse will help in sorted in descending order\n",
    "num = [2,4,7,8,5,3,1]\n",
    "print(sorted(num, reverse = True))"
   ]
  },
  {
   "cell_type": "code",
   "execution_count": null,
   "metadata": {},
   "outputs": [],
   "source": [
    "#Join\n",
    "day = days[:4]\n",
    "print(\"$\".join(day))"
   ]
  },
  {
   "cell_type": "code",
   "execution_count": null,
   "metadata": {},
   "outputs": [],
   "source": [
    "#append\n",
    "\n",
    "#used to add the elemennts to the current created list \n",
    "\n",
    "day.append('Fuck em')\n",
    "day"
   ]
  },
  {
   "cell_type": "code",
   "execution_count": null,
   "metadata": {},
   "outputs": [],
   "source": [
    "#Tuples\n",
    "#immutable \n",
    "\n",
    "num = (1,3,4,5,6,6,7,7,7,7)\n",
    "print(type(num))\n",
    "\n",
    "print(\"Number: {}, {}\".format(num[2],num[3]))\n",
    "#tuples are useful when the two values are nearest like long and latitudes"
   ]
  },
  {
   "cell_type": "code",
   "execution_count": null,
   "metadata": {},
   "outputs": [],
   "source": [
    "#Sets\n",
    "#muttable and Unordered\n",
    "\n",
    "\n",
    "unique = set(num)\n",
    "unique\n",
    "\n"
   ]
  },
  {
   "cell_type": "code",
   "execution_count": null,
   "metadata": {},
   "outputs": [],
   "source": [
    "print(3 in num)"
   ]
  },
  {
   "cell_type": "code",
   "execution_count": null,
   "metadata": {},
   "outputs": [],
   "source": [
    "unique.add(9)\n",
    "unique"
   ]
  },
  {
   "cell_type": "code",
   "execution_count": null,
   "metadata": {},
   "outputs": [],
   "source": [
    "#pop() method can also be used in sets\n"
   ]
  },
  {
   "cell_type": "code",
   "execution_count": null,
   "metadata": {},
   "outputs": [],
   "source": [
    "#dictionaries \n",
    "#Mutuable\n",
    "#they store pairs of elements\n",
    "\n",
    "Lokesh= {'CS593': 'A','MA540': 'B+', 'MA541': 'A-'}\n",
    "Lokesh"
   ]
  },
  {
   "cell_type": "code",
   "execution_count": null,
   "metadata": {},
   "outputs": [],
   "source": [
    "print('CS593' in Lokesh) #We can use in same like in list and sets to find the value existence in that particular dictionaries\n"
   ]
  },
  {
   "cell_type": "code",
   "execution_count": null,
   "metadata": {},
   "outputs": [],
   "source": [
    "print(Lokesh.get('CS593')) #to get the assigned value of a particular object declared in the dictonatries\n",
    "#if its not found it will print NONE in the output"
   ]
  },
  {
   "cell_type": "code",
   "execution_count": null,
   "metadata": {},
   "outputs": [],
   "source": [
    "#identity operators\n",
    "#IS evaluates if both sodes have the same identity\n",
    "#IS NOT evaluates if both side have different identity\n"
   ]
  },
  {
   "cell_type": "code",
   "execution_count": null,
   "metadata": {},
   "outputs": [],
   "source": [
    "#Control Flows\n",
    "#COnditional Statements'\n",
    "\n",
    "#IF Statement\n",
    "bill = 3\n",
    "bank =100\n",
    "if bill <5:\n",
    "    bill += 10\n",
    "    bank -= 10\n",
    "print(bill,bank)"
   ]
  },
  {
   "cell_type": "code",
   "execution_count": null,
   "metadata": {},
   "outputs": [],
   "source": [
    "#IF,ELIF,ELSE\n",
    "\n",
    "#IF-ELSE\n",
    "n=11\n",
    "if n%2 == 0:\n",
    "    print(\"num is even\")\n",
    "else:\n",
    "    print(\"Odd\")\n",
    "    \n",
    "    print(n)"
   ]
  },
  {
   "cell_type": "code",
   "execution_count": null,
   "metadata": {},
   "outputs": [],
   "source": [
    "#IF-ELSE-ELIF\n",
    "\n",
    "season = 'Winter'\n",
    "\n",
    "if season == 'Spring':\n",
    "    print('GO out and enjoy damn it')\n",
    "elif season == 'Summer':\n",
    "    print('Go get some drinks before u pass out')\n",
    "elif season == 'Fall':\n",
    "    print('Get ready for class dumb ass')\n",
    "elif season == 'Winter':\n",
    "    print('Get your ass to the home before u freeze out bud')\n",
    "else :\n",
    "    print('Fuck Off')"
   ]
  },
  {
   "cell_type": "code",
   "execution_count": null,
   "metadata": {},
   "outputs": [],
   "source": [
    "#CertainRange\n",
    "\n",
    "if 1.3 <= weight/height**2< 23:\n",
    "    print('everything is normal')"
   ]
  },
  {
   "cell_type": "code",
   "execution_count": null,
   "metadata": {},
   "outputs": [],
   "source": [
    "#ForLoop\n",
    "#Iterable - it can return one of its element at a time\n",
    "\n",
    "nba = ['lakers','Clippers','Bulls','Warriors']\n",
    "for m in nba:\n",
    "    print(m.title()) #.title() is used to make the starting letter in CAPS"
   ]
  },
  {
   "cell_type": "code",
   "execution_count": null,
   "metadata": {},
   "outputs": [],
   "source": [
    "#RANGE (START,STOP,STEP)\n",
    "#START- START NUMBER OF THE SEQUENCE\n",
    "#STOP- ONE ABOVE THE LAST NUUMBER OF THE SEQUENCE\n",
    "#STEP- DIFFERNCE BTW THE NUMBER OF THE SEQUENCE"
   ]
  },
  {
   "cell_type": "code",
   "execution_count": null,
   "metadata": {},
   "outputs": [],
   "source": [
    "print(list(range(4)))"
   ]
  },
  {
   "cell_type": "code",
   "execution_count": null,
   "metadata": {},
   "outputs": [],
   "source": [
    "print(list(range(1,7)))"
   ]
  },
  {
   "cell_type": "code",
   "execution_count": null,
   "metadata": {},
   "outputs": [],
   "source": [
    "print(list(range(1,9,3)))"
   ]
  },
  {
   "cell_type": "code",
   "execution_count": null,
   "metadata": {},
   "outputs": [],
   "source": [
    "\n",
    "for index in range(len(nba)):\n",
    "    nba[index] = nba[index].title()\n",
    "    print(nba)"
   ]
  },
  {
   "cell_type": "code",
   "execution_count": null,
   "metadata": {},
   "outputs": [],
   "source": [
    "for i in range(4):\n",
    "    print('Fuck')"
   ]
  },
  {
   "cell_type": "code",
   "execution_count": null,
   "metadata": {},
   "outputs": [],
   "source": [
    "#while Loop\n",
    "card_deck = [4,11,2,3,45,54,32,5]\n",
    "hand = []\n",
    "\n",
    "while sum(hand) <= 17:\n",
    "    hand.append(card_deck.pop())\n",
    "print(hand)\n"
   ]
  },
  {
   "cell_type": "code",
   "execution_count": null,
   "metadata": {},
   "outputs": [],
   "source": [
    "#break,Continue\n",
    "#break will terimante the loop\n",
    "\n",
    "manifest = [('Bananas',15),('Mattresses',34),('dog kennels',42),('Machine',120),('cheese',5)]\n",
    "weight = 0\n",
    "items = []\n",
    "for cargo in manifest:\n",
    "    print('Current weight: {}'.format(weight))\n",
    "    if weight >= 100:\n",
    "            print(\"breaking loop\")\n",
    "            break\n",
    "    else:\n",
    "            print(\"adding {} ({})\".format(cargo[0],cargo[1]))\n",
    "            items.append(cargo[0])\n",
    "            weight += cargo[1]\n",
    "            "
   ]
  },
  {
   "cell_type": "code",
   "execution_count": null,
   "metadata": {},
   "outputs": [],
   "source": [
    "m = [20,3]\n",
    "for n in m:\n",
    "    if n%2!=0:\n",
    "        print(\"Weird\")\n",
    "    elif (n%2 == 0 and (2,6,1)):\n",
    "        print(\"Not Weird\")\n",
    "    elif (n%2 == 0 and (6,21,1)):\n",
    "        print(\"Weird\")\n",
    "    elif (n%2 == 0 and n>20):\n",
    "        print(\"Not Weird\")\n",
    "    "
   ]
  },
  {
   "cell_type": "code",
   "execution_count": null,
   "metadata": {},
   "outputs": [],
   "source": [
    "print(list(range(6,21,1)))"
   ]
  },
  {
   "cell_type": "code",
   "execution_count": null,
   "metadata": {},
   "outputs": [],
   "source": [
    "#ZIP AND ENUMERATE\n",
    "\n",
    "#ZIP combines multiple values into one tuple like below example\n",
    "\n",
    "days = ['monday','Tuesday','Wednesday','Thursday','Friday','Saturday','Sunday']\n",
    "num = [1,2,3,4,5,6,7]\n",
    "\n",
    "print(list(zip(days,num)))"
   ]
  },
  {
   "cell_type": "code",
   "execution_count": null,
   "metadata": {},
   "outputs": [],
   "source": [
    "#zip using for loop\n",
    "for fuck in zip(days,num):\n",
    "    print(fuck[0], fuck[1])"
   ]
  },
  {
   "cell_type": "code",
   "execution_count": null,
   "metadata": {},
   "outputs": [],
   "source": [
    "for days,num in zip(days,num):\n",
    "    print(days,num)"
   ]
  },
  {
   "cell_type": "code",
   "execution_count": null,
   "metadata": {},
   "outputs": [],
   "source": [
    "#unpacking the Zip we need to use asterisk symbol infront of the zip\n",
    "lol = [('mon',1),('tue',2),('wed',3)]\n",
    "day,nums = zip(*lol)\n",
    "print(day)\n",
    "print(nums)"
   ]
  },
  {
   "cell_type": "code",
   "execution_count": null,
   "metadata": {},
   "outputs": [],
   "source": [
    "#Enumerate- it will help to print the index alongside the variables\n",
    "\n",
    "days = ['monday','Tuesday','Wednesday','Thursday','Friday','Saturday','Sunday']\n",
    "days"
   ]
  },
  {
   "cell_type": "code",
   "execution_count": null,
   "metadata": {},
   "outputs": [],
   "source": [
    "#Enumerating using ZIP\n",
    "for i,days in zip(range(len(days)),days):\n",
    "    print(i,days)"
   ]
  },
  {
   "cell_type": "code",
   "execution_count": null,
   "metadata": {},
   "outputs": [],
   "source": [
    "#Enumerating using the keyword ENUMERATE\n",
    "days = ['monday','Tuesday','Wednesday','Thursday','Friday','Saturday','Sunday']\n",
    "days"
   ]
  },
  {
   "cell_type": "code",
   "execution_count": null,
   "metadata": {},
   "outputs": [],
   "source": [
    "#enumerating using the keyword enumerate\n",
    "for i, days in enumerate(days):\n",
    "    print(i,days)"
   ]
  },
  {
   "cell_type": "code",
   "execution_count": null,
   "metadata": {},
   "outputs": [],
   "source": [
    "#List Comprehensions\n",
    "# allows to create the list in one step using the for loop\n",
    "#gerenal way of doing using the normal list\n",
    "days = ['monday','Tuesday','Wednesday','Thursday','Friday','Saturday','Sunday']\n",
    "\n",
    "day =[]\n",
    "\n",
    "for d in days:\n",
    "    day.append(d.title())\n",
    "print(day)"
   ]
  },
  {
   "cell_type": "code",
   "execution_count": null,
   "metadata": {},
   "outputs": [],
   "source": [
    "#otherway of doing this using the list comprehension\n",
    "\n",
    "days = ['monday','Tuesday','Wednesday','Thursday','Friday','Saturday','Sunday']\n",
    "\n",
    "day = [d.title() for d in days]\n",
    "day"
   ]
  },
  {
   "cell_type": "code",
   "execution_count": null,
   "metadata": {},
   "outputs": [],
   "source": [
    "Squares = []\n",
    "for x in range(9):\n",
    "    Squares.append(x**2)\n",
    "print(Squares)"
   ]
  },
  {
   "cell_type": "code",
   "execution_count": 10,
   "metadata": {},
   "outputs": [
    {
     "name": "stdout",
     "output_type": "stream",
     "text": [
      "[0, 4, 16, 36, 64]\n"
     ]
    }
   ],
   "source": [
    "#Same using list comprenensions\n",
    "\n",
    "squares = [x**2 for x in range(9) if x%2 == 0]\n",
    "print(squares)"
   ]
  },
  {
   "cell_type": "code",
   "execution_count": 11,
   "metadata": {},
   "outputs": [
    {
     "name": "stdout",
     "output_type": "stream",
     "text": [
      "[0, 3, 4, 5, 16, 7, 36, 9, 64]\n"
     ]
    }
   ],
   "source": [
    "#If we need to use else in the above we nned to declare IF first followed by for\n",
    "\n",
    "squares = [x**2  if x%2 == 0  else x+2 for x in range(9)]\n",
    "print(squares)"
   ]
  },
  {
   "cell_type": "code",
   "execution_count": 12,
   "metadata": {},
   "outputs": [
    {
     "data": {
      "text/plain": [
       "125.60000000000001"
      ]
     },
     "execution_count": 12,
     "metadata": {},
     "output_type": "execute_result"
    }
   ],
   "source": [
    "#FUnctions\n",
    "\n",
    "def Cylinder_Volume(height,radius): #Def is a function definition #Height,Radius are arguments\n",
    "    pi = 3.14 #Constant Value #Line 2,3 are the body of the function\n",
    "    return height*pi*radius**2 \n",
    "\n",
    "Cylinder_Volume(10,2)\n"
   ]
  },
  {
   "cell_type": "code",
   "execution_count": 13,
   "metadata": {},
   "outputs": [
    {
     "data": {
      "text/plain": [
       "12.56"
      ]
     },
     "execution_count": 13,
     "metadata": {},
     "output_type": "execute_result"
    }
   ],
   "source": [
    " #Default Arguments\n",
    "    \n",
    "def volume(height, radius = 4):\n",
    "    pi = 3.14\n",
    "    return height*pi*radius\n",
    "volume(4) #it will use radius as the default argument\n",
    "volume(4,1) #it will override the current default radiu with the new argument\n",
    "    "
   ]
  },
  {
   "cell_type": "code",
   "execution_count": 14,
   "metadata": {},
   "outputs": [
    {
     "data": {
      "text/plain": [
       "3"
      ]
     },
     "execution_count": 14,
     "metadata": {},
     "output_type": "execute_result"
    }
   ],
   "source": [
    "#Documentation string will be used using three quotes like below\n",
    "\n",
    "def add(num1,num2):\n",
    "#\"\"\"The below function is used to find the sum of two numbers.\"\"\"\n",
    "    sol = num1+num2\n",
    "    return(sol)\n",
    "add(1,2)"
   ]
  },
  {
   "cell_type": "code",
   "execution_count": 15,
   "metadata": {},
   "outputs": [
    {
     "data": {
      "text/plain": [
       "4"
      ]
     },
     "execution_count": 15,
     "metadata": {},
     "output_type": "execute_result"
    }
   ],
   "source": [
    "#Lambda Expressions\n",
    "\n",
    "#Normal fuction\n",
    "\n",
    "def double(x):\n",
    "    x*=2\n",
    "    return x\n",
    "double(2)"
   ]
  },
  {
   "cell_type": "code",
   "execution_count": 16,
   "metadata": {},
   "outputs": [
    {
     "data": {
      "text/plain": [
       "4"
      ]
     },
     "execution_count": 16,
     "metadata": {},
     "output_type": "execute_result"
    }
   ],
   "source": [
    "#Lambda Function\n",
    "\n",
    "double = lambda x:x*2\n",
    "\n",
    "double(2)"
   ]
  },
  {
   "cell_type": "code",
   "execution_count": 17,
   "metadata": {},
   "outputs": [
    {
     "data": {
      "text/plain": [
       "5"
      ]
     },
     "execution_count": 17,
     "metadata": {},
     "output_type": "execute_result"
    }
   ],
   "source": [
    "#Multiple Arguments\n",
    "\n",
    "double = lambda x,y:x+y\n",
    "\n",
    "double(2,3)"
   ]
  },
  {
   "cell_type": "code",
   "execution_count": 18,
   "metadata": {},
   "outputs": [
    {
     "name": "stdout",
     "output_type": "stream",
     "text": [
      "[57.0, 58.2, 50.6, 27.2]\n"
     ]
    }
   ],
   "source": [
    "#Lambda Function with Map()\n",
    "numbers = [\n",
    "              [34, 63, 88, 71, 29],\n",
    "              [90, 78, 51, 27, 45],\n",
    "              [63, 37, 85, 46, 22],\n",
    "              [51, 22, 34, 11, 18]\n",
    "           ]\n",
    "\n",
    "averages = list(map(lambda x: sum(x) / len(x), numbers))\n",
    "print(averages)"
   ]
  },
  {
   "cell_type": "code",
   "execution_count": 19,
   "metadata": {},
   "outputs": [
    {
     "name": "stdout",
     "output_type": "stream",
     "text": [
      "['Chicago', 'Denver', 'Boston']\n"
     ]
    }
   ],
   "source": [
    "#Lambda FUnction with Filter\n",
    "\n",
    "cities = [\"New York City\", \"Los Angeles\", \"Chicago\", \"Mountain View\", \"Denver\", \"Boston\"]\n",
    "\n",
    "short_cities = list(filter(lambda x: len(x) < 10, cities))\n",
    "print(short_cities)"
   ]
  },
  {
   "cell_type": "code",
   "execution_count": 23,
   "metadata": {},
   "outputs": [
    {
     "name": "stdout",
     "output_type": "stream",
     "text": [
      "Numberjh\n",
      "invalid\n",
      "Attempted\n",
      "Number12\n",
      "Done\n",
      "Attempted\n"
     ]
    }
   ],
   "source": [
    "#TRY EXCEPT using the while loop \n",
    "while True:\n",
    "    try:\n",
    "        x = int(input(\"Number\"))\n",
    "        print('Done')\n",
    "        break\n",
    "    except ValueError:\n",
    "        print('invalid')\n",
    "        \n",
    "    finally: #this will be printed no matter whats in the code whether it runs sucessfully or not \n",
    "        print(\"Attempted\")"
   ]
  },
  {
   "cell_type": "code",
   "execution_count": null,
   "metadata": {},
   "outputs": [],
   "source": [
    "#reading And Writing Files\n",
    "\n",
    "f = open('/location','r') #opening a file \n",
    "file_data= f.read()\n",
    "f.close()\n",
    "\n",
    "print(file_data)"
   ]
  },
  {
   "cell_type": "code",
   "execution_count": 24,
   "metadata": {},
   "outputs": [
    {
     "ename": "FileNotFoundError",
     "evalue": "[Errno 2] No such file or directory: '/location'",
     "output_type": "error",
     "traceback": [
      "\u001b[0;31m---------------------------------------------------------------------------\u001b[0m",
      "\u001b[0;31mFileNotFoundError\u001b[0m                         Traceback (most recent call last)",
      "\u001b[0;32m<ipython-input-24-d6e3ba1acffc>\u001b[0m in \u001b[0;36m<module>\u001b[0;34m\u001b[0m\n\u001b[1;32m      1\u001b[0m \u001b[0mfiles\u001b[0m \u001b[0;34m=\u001b[0m \u001b[0;34m[\u001b[0m\u001b[0;34m]\u001b[0m\u001b[0;34m\u001b[0m\u001b[0;34m\u001b[0m\u001b[0m\n\u001b[1;32m      2\u001b[0m \u001b[0;32mfor\u001b[0m \u001b[0mi\u001b[0m \u001b[0;32min\u001b[0m \u001b[0mrange\u001b[0m\u001b[0;34m(\u001b[0m\u001b[0;36m1900000\u001b[0m\u001b[0;34m)\u001b[0m\u001b[0;34m:\u001b[0m\u001b[0;34m\u001b[0m\u001b[0;34m\u001b[0m\u001b[0m\n\u001b[0;32m----> 3\u001b[0;31m     \u001b[0mfiles\u001b[0m\u001b[0;34m.\u001b[0m\u001b[0mappend\u001b[0m\u001b[0;34m(\u001b[0m\u001b[0mopen\u001b[0m\u001b[0;34m(\u001b[0m\u001b[0;34m'/location'\u001b[0m\u001b[0;34m,\u001b[0m\u001b[0;34m'r'\u001b[0m\u001b[0;34m)\u001b[0m\u001b[0;34m)\u001b[0m\u001b[0;34m\u001b[0m\u001b[0;34m\u001b[0m\u001b[0m\n\u001b[0m\u001b[1;32m      4\u001b[0m     \u001b[0mprint\u001b[0m\u001b[0;34m(\u001b[0m\u001b[0mi\u001b[0m\u001b[0;34m)\u001b[0m\u001b[0;34m\u001b[0m\u001b[0;34m\u001b[0m\u001b[0m\n",
      "\u001b[0;31mFileNotFoundError\u001b[0m: [Errno 2] No such file or directory: '/location'"
     ]
    }
   ],
   "source": [
    "files = []\n",
    "for i in range(1900000):\n",
    "    files.append(open('/location','r'))\n",
    "    print(i)\n",
    "i.close()"
   ]
  },
  {
   "cell_type": "code",
   "execution_count": null,
   "metadata": {},
   "outputs": [],
   "source": [
    "#'w' will delete anything that was before\n",
    "#'a' append"
   ]
  },
  {
   "cell_type": "code",
   "execution_count": 27,
   "metadata": {},
   "outputs": [
    {
     "ename": "FileNotFoundError",
     "evalue": "[Errno 2] No such file or directory: 'file.txt'",
     "output_type": "error",
     "traceback": [
      "\u001b[0;31m---------------------------------------------------------------------------\u001b[0m",
      "\u001b[0;31mFileNotFoundError\u001b[0m                         Traceback (most recent call last)",
      "\u001b[0;32m<ipython-input-27-1182947e0716>\u001b[0m in \u001b[0;36m<module>\u001b[0;34m\u001b[0m\n\u001b[1;32m      1\u001b[0m \u001b[0;31m#with Keyword this will help in closinf the file once its finished using\u001b[0m\u001b[0;34m\u001b[0m\u001b[0;34m\u001b[0m\u001b[0;34m\u001b[0m\u001b[0m\n\u001b[1;32m      2\u001b[0m \u001b[0;34m\u001b[0m\u001b[0m\n\u001b[0;32m----> 3\u001b[0;31m \u001b[0;32mwith\u001b[0m \u001b[0mopen\u001b[0m\u001b[0;34m(\u001b[0m\u001b[0;34m'file.txt'\u001b[0m\u001b[0;34m,\u001b[0m\u001b[0;34m'r'\u001b[0m\u001b[0;34m)\u001b[0m \u001b[0;32mas\u001b[0m \u001b[0mf\u001b[0m\u001b[0;34m:\u001b[0m\u001b[0;34m\u001b[0m\u001b[0;34m\u001b[0m\u001b[0m\n\u001b[0m\u001b[1;32m      4\u001b[0m     \u001b[0mfile_data\u001b[0m \u001b[0;34m=\u001b[0m \u001b[0mf\u001b[0m\u001b[0;34m.\u001b[0m\u001b[0mread\u001b[0m\u001b[0;34m(\u001b[0m\u001b[0;34m)\u001b[0m\u001b[0;34m\u001b[0m\u001b[0;34m\u001b[0m\u001b[0m\n\u001b[1;32m      5\u001b[0m \u001b[0;34m\u001b[0m\u001b[0m\n",
      "\u001b[0;31mFileNotFoundError\u001b[0m: [Errno 2] No such file or directory: 'file.txt'"
     ]
    }
   ],
   "source": [
    "#with Keyword this will help in closinf the file once its finished using\n",
    "\n",
    "with open('file.txt','r') as f:\n",
    "    file_data = f.read()\n",
    "    \n",
    "print(file_data)\n",
    "    "
   ]
  },
  {
   "cell_type": "code",
   "execution_count": 28,
   "metadata": {},
   "outputs": [
    {
     "name": "stdout",
     "output_type": "stream",
     "text": [
      "Enter any number: 24\n",
      "Enter any number: 24\n",
      "Enter any number: 20\n",
      "Enter any number: 21\n",
      "Enter any number: 34\n",
      "Enter any number: 23\n",
      "Enter any number: 4\n",
      "Enter any number: 5\n",
      "Enter any number: 3\n",
      "Enter any number: 4\n",
      "user_list: [24, 24, 20, 21, 34, 23, 4, 5, 3, 4]\n",
      "The sum of the even numbers in user_list is: 110.\n"
     ]
    }
   ],
   "source": [
    "user_list = []  \n",
    "list_sum = 0\n",
    "for i in range(10):\n",
    "    userInput = int(input(\"Enter any number: \"))\n",
    "    try:\n",
    "        user_list.append(userInput)\n",
    "        if userInput % 2 == 0:\n",
    "            list_sum += userInput\n",
    "    except ValueError:\n",
    "        print(\"Incorrect value. That's not an int!\")\n",
    "\n",
    "print(\"user_list: {}\".format(user_list))\n",
    "print(\"The sum of the even numbers in user_list is: {}.\".format(list_sum))"
   ]
  },
  {
   "cell_type": "code",
   "execution_count": 10,
   "metadata": {},
   "outputs": [
    {
     "ename": "ModuleNotFoundError",
     "evalue": "No module named 'filename'",
     "output_type": "error",
     "traceback": [
      "\u001b[0;31m---------------------------------------------------------------------------\u001b[0m",
      "\u001b[0;31mModuleNotFoundError\u001b[0m                       Traceback (most recent call last)",
      "\u001b[0;32m<ipython-input-10-ca63c475f6fa>\u001b[0m in \u001b[0;36m<module>\u001b[0;34m\u001b[0m\n\u001b[1;32m      1\u001b[0m \u001b[0;31m#Import\u001b[0m\u001b[0;34m\u001b[0m\u001b[0;34m\u001b[0m\u001b[0;34m\u001b[0m\u001b[0m\n\u001b[0;32m----> 2\u001b[0;31m \u001b[0;32mimport\u001b[0m \u001b[0mfilename\u001b[0m \u001b[0;31m#Modulename\u001b[0m\u001b[0;34m\u001b[0m\u001b[0;34m\u001b[0m\u001b[0m\n\u001b[0m",
      "\u001b[0;31mModuleNotFoundError\u001b[0m: No module named 'filename'"
     ]
    }
   ],
   "source": [
    "#Import\n",
    "import filename #Modulename"
   ]
  },
  {
   "cell_type": "code",
   "execution_count": 11,
   "metadata": {},
   "outputs": [
    {
     "name": "stdout",
     "output_type": "stream",
     "text": [
      "0.19820594787597656\n"
     ]
    }
   ],
   "source": []
  },
  {
   "cell_type": "code",
   "execution_count": null,
   "metadata": {},
   "outputs": [],
   "source": []
  },
  {
   "cell_type": "markdown",
   "metadata": {},
   "source": []
  }
 ],
 "metadata": {
  "kernelspec": {
   "display_name": "Python 3",
   "language": "python",
   "name": "python3"
  },
  "language_info": {
   "codemirror_mode": {
    "name": "ipython",
    "version": 3
   },
   "file_extension": ".py",
   "mimetype": "text/x-python",
   "name": "python",
   "nbconvert_exporter": "python",
   "pygments_lexer": "ipython3",
   "version": "3.7.6"
  }
 },
 "nbformat": 4,
 "nbformat_minor": 4
}
